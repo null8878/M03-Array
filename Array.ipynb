{
 "cells": [
  {
   "cell_type": "code",
   "execution_count": null,
   "id": "initial_id",
   "metadata": {
    "collapsed": true
   },
   "outputs": [],
   "source": [
    "\"\"\"\n",
    "Edward Clark\n",
    "Date: 6/25/25\n",
    "\n",
    "will sort arrays and numbers\n",
    "\n",
    "\"\"\"\n",
    "#Binary Search\n",
    "class Solution:\n",
    "    def binarysearch(self, arr, k):\n",
    "        left = 0\n",
    "        right = len(arr) - 1\n",
    "\n",
    "        result= -1\n",
    "\n",
    "        while left <= right:\n",
    "            mid = left + (right - left) // 2\n",
    "\n",
    "            if arr[mid] == k:\n",
    "                result = mid\n",
    "                right = mid -1\n",
    "\n",
    "            if arr[mid] < k:\n",
    "                left = mid + 1\n",
    "\n",
    "            else:\n",
    "                right = mid - 1\n",
    "\n",
    "        return result"
   ]
  },
  {
   "metadata": {},
   "cell_type": "code",
   "outputs": [],
   "execution_count": null,
   "source": [
    "#Array Sort\n",
    "\n",
    "class Solution:\n",
    "    def sort012(self, arr):\n",
    "        low = 0          # 🟥 Tracks next place to put 0\n",
    "        mid = 0          # 🟨 Current index we're evaluating\n",
    "        high = len(arr) - 1  # 🟦 Tracks next place to put 2\n",
    "\n",
    "        while mid <= high:\n",
    "            if arr[mid] == 0:\n",
    "                arr[low], arr[mid] = arr[mid], arr[low]  # Swap 0 to front\n",
    "                low += 1\n",
    "                mid += 1\n",
    "            elif arr[mid] == 1:\n",
    "                mid += 1  # Just skip 1s\n",
    "            else:\n",
    "                arr[mid], arr[high] = arr[high], arr[mid]  # Move 2 to end\n",
    "                high -= 1\n",
    "        return arr\n"
   ],
   "id": "5c2bf76492d5cb2e"
  }
 ],
 "metadata": {
  "kernelspec": {
   "display_name": "Python 3",
   "language": "python",
   "name": "python3"
  },
  "language_info": {
   "codemirror_mode": {
    "name": "ipython",
    "version": 2
   },
   "file_extension": ".py",
   "mimetype": "text/x-python",
   "name": "python",
   "nbconvert_exporter": "python",
   "pygments_lexer": "ipython2",
   "version": "2.7.6"
  }
 },
 "nbformat": 4,
 "nbformat_minor": 5
}
